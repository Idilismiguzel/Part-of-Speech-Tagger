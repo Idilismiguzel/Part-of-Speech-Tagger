{
 "metadata": {
  "language_info": {
   "codemirror_mode": {
    "name": "ipython",
    "version": 3
   },
   "file_extension": ".py",
   "mimetype": "text/x-python",
   "name": "python",
   "nbconvert_exporter": "python",
   "pygments_lexer": "ipython3",
   "version": "3.8.5-final"
  },
  "orig_nbformat": 2,
  "kernelspec": {
   "name": "python3",
   "display_name": "Python 3.8.5 64-bit (conda)",
   "metadata": {
    "interpreter": {
     "hash": "9627f38eb0be17f720dd2f786f711c4200b80610bc5602a0a975ef1e7fa0b409"
    }
   }
  }
 },
 "nbformat": 4,
 "nbformat_minor": 2,
 "cells": [
  {
   "source": [
    "# Hidden Markov Models\n",
    "---\n",
    "__Introduction__\n",
    "\n",
    "In this notebook we will use the Pomegranate library to build a simple Hidden Markov Model and explore the Pomegranate API.\n",
    "\n"
   ],
   "cell_type": "markdown",
   "metadata": {}
  },
  {
   "cell_type": "code",
   "execution_count": 2,
   "metadata": {},
   "outputs": [],
   "source": [
    "# Jupyter \"magic methods\" -- only need to be run once per kernel\n",
    "\n",
    "%load_ext autoreload\n",
    "%aimport helpers\n",
    "%autoreload 1"
   ]
  },
  {
   "cell_type": "code",
   "execution_count": 3,
   "metadata": {},
   "outputs": [],
   "source": [
    "# import python modules -- this cell needs to be run again if you make changes to any of the files\n",
    "import matplotlib.pyplot as plt\n",
    "import numpy as np\n",
    "from helpers import show_model\n",
    "from pomegranate import State, HiddenMarkovModel, DiscreteDistribution"
   ]
  },
  {
   "source": [
    "\n",
    "## Build a Simple HMM\n",
    "---\n",
    "Starting by building a simple HMM network based on an example from the textbook [Artificial Intelligence: A Modern Approach](http://aima.cs.berkeley.edu/).\n",
    "\n",
    "> You are the security guard stationed at a secret under-ground installation. Each day, you try to guess whether it’s raining today, but your only access to the outside world occurs each morning when you see the director coming in with, or without, an umbrella.\n",
    "\n",
    "A simplified diagram of the required network topology is shown below.\n",
    "\n",
    "![](_example.png)\n",
    "\n",
    "### Describing the Network\n",
    "\n",
    "$\\lambda = (A, B)$ specifies a Hidden Markov Model in terms of an emission probability distribution $A$ and a state transition probability distribution $B$.\n",
    "</div>\n",
    "\n",
    "HMM networks are parameterized by two distributions: the emission probabilties giving the conditional probability of observing evidence values for each hidden state, and the transition probabilities giving the conditional probability of moving between states during the sequence. Additionally, you can specify an initial distribution describing the probability of a sequence starting in each state.\n",
    "\n",
    "At each time $t$, $X_t$ represents the hidden state, and $Y_t$ represents an observation at that time.\n",
    "</div>\n",
    "\n",
    "In this problem, $t$ corresponds to each day of the week and the hidden state represent the weather outside (whether it is Rainy or Sunny) and observations record whether the security guard sees the director carrying an umbrella or not.\n",
    "\n",
    "For example, during some particular week the guard may observe an umbrella ['yes', 'no', 'yes', 'no', 'yes'] on Monday-Friday, while the weather outside is ['Rainy', 'Sunny', 'Sunny', 'Sunny', 'Rainy']. In that case, $t=Wednesday$, $Y_{Wednesday}=yes$, and $X_{Wednesday}=Sunny$. (It might be surprising that the guard would observe an umbrella on a sunny day, but it is possible under this type of model.)\n",
    "\n",
    "### Initializing an HMM Network with Pomegranate\n",
    "The Pomegranate library supports [two initialization methods](http://pomegranate.readthedocs.io/en/latest/HiddenMarkovModel.html#initialization). You can either explicitly provide the three distributions, or you can build the network line-by-line. We'll use the line-by-line method for the example network, but you're free to use either method for the part of speech tagger."
   ],
   "cell_type": "markdown",
   "metadata": {}
  },
  {
   "cell_type": "code",
   "execution_count": 6,
   "metadata": {},
   "outputs": [],
   "source": [
    "# Create the HMM model\n",
    "model = HiddenMarkovModel(name=\"Example Model\")"
   ]
  },
  {
   "source": [
    "### **IMPLEMENTATION**: Add the Hidden States\n",
    "When the HMM model is specified line-by-line, the object starts as an empty container. The first step is to name each state and attach an emission distribution.\n",
    "\n",
    "#### Observation Emission Probabilities: $P(Y_t | X_t)$\n",
    "We need to assume that we have some prior knowledge (possibly from a data set) about the director's behavior to estimate the emission probabilities for each hidden state. In real problems you can often estimate the emission probabilities empirically, which is what we'll do for the part of speech tagger. Our imaginary data will produce the conditional probability table below. (Note that the rows sum to 1.0)\n",
    "\n",
    "| |  $yes$  | $no$ |\n",
    "| --- | --- | --- |\n",
    "| $Sunny$ |   0.10  | 0.90 |\n",
    "| $Rainy$ | 0.80 | 0.20 |"
   ],
   "cell_type": "markdown",
   "metadata": {}
  },
  {
   "cell_type": "code",
   "execution_count": 7,
   "metadata": {},
   "outputs": [
    {
     "output_type": "stream",
     "name": "stdout",
     "text": [
      "Looks good so far!\n"
     ]
    }
   ],
   "source": [
    "# Create the HMM Model\n",
    "model = HiddenMarkovModel(name=\"Example Model\")\n",
    "\n",
    "# Emission probability distributions, P(umbrealla | weather)\n",
    "sunny_emissions = DiscreteDistribution({\"yes\": 0.1, \"no\": 0.9})\n",
    "sunny_state = State(sunny_emissions, name=\"Sunny\")\n",
    "\n",
    "# Create a discrete distribution for the rainy emissions from the probability table\n",
    "# above and use that distribution to create a state named Rainy\n",
    "rainy_emissions = DiscreteDistribution({\"yes\": 0.8, \"no\": 0.2})\n",
    "rainy_state = State(rainy_emissions, name=\"Rainy\")\n",
    "\n",
    "# Add the states to the model\n",
    "model.add_states(sunny_state, rainy_state)\n",
    "\n",
    "assert rainy_emissions.probability(\"yes\") == 0.8, \"The director brings his umbrealla with the probability 0.8 on rainy days\"\n",
    "print(\"Looks good so far!\")"
   ]
  },
  {
   "source": [
    "### **IMPLEMENTATION:** Adding Transitions\n",
    "Once the states are added to the model, we can build up the desired topology of individual state transitions.\n",
    "\n",
    "#### Initial Probability $P(X_0)$:\n",
    "We will assume that we don't know anything useful about the likelihood of a sequence starting in either state. If the sequences start each week on Monday and end each week on Friday (so each week is a new sequence), then this assumption means that it's equally likely that the weather on a Monday may be Rainy or Sunny. We can assign equal probability to each starting state by setting $P(X_0=Rainy) = 0.5$ and $P(X_0=Sunny)=0.5$:\n",
    "\n",
    "| $Sunny$ | $Rainy$ |\n",
    "| --- | ---\n",
    "| 0.5 | 0.5 |\n",
    "\n",
    "#### State transition probabilities $P(X_{t} | X_{t-1})$\n",
    "Finally, we will assume for this example that we can estimate transition probabilities from something like historical weather data for the area. In real problems you can often use the structure of the problem (like a language grammar) to impose restrictions on the transition probabilities, then re-estimate the parameters with the same training data used to estimate the emission probabilities. Under this assumption, we get the conditional probability table below. (Note that the rows sum to 1.0)\n",
    "\n",
    "| | $Sunny$ | $Rainy$ |\n",
    "| --- | --- | --- |\n",
    "|$Sunny$| 0.80 | 0.20 |\n",
    "|$Rainy$| 0.40 | 0.60 |"
   ],
   "cell_type": "markdown",
   "metadata": {}
  },
  {
   "cell_type": "code",
   "execution_count": 10,
   "metadata": {},
   "outputs": [
    {
     "output_type": "stream",
     "name": "stdout",
     "text": [
      "Great! You have finished the model\n"
     ]
    }
   ],
   "source": [
    "# Create edges for each possible state transition in the model\n",
    "# equal probability of a sequence starting on either a rainy or sunny day\n",
    "model.add_transition(model.start, sunny_state, 0.5)\n",
    "model.add_transition(model.start, rainy_state, 0.5)\n",
    "\n",
    "# Add sunny day transitions (we already know estimates for these probabilities\n",
    "# from the problem statement)\n",
    "model.add_transition(sunny_state, sunny_state, 0.8) # 80% sunny --> sunny\n",
    "model.add_transition(sunny_state, rainy_state, 0.2) # 20% sunny --> rainy\n",
    "\n",
    "# Add rainy day transitions using the probabilities specified in the transition table\n",
    "model.add_transition(rainy_state, rainy_state, 0.6) # 60% rainy --> rainy\n",
    "model.add_transition(rainy_state, sunny_state, 0.4) # 40% rainy --> sunny\n",
    "\n",
    "# Finally call the .bake() method to finalize the model\n",
    "model.bake()\n",
    "\n",
    "assert model.edge_count() == 6, \"There should be two edges from model.start, two from Rainy and two from Sunny\"\n",
    "assert model.node_count() == 4, \"The states should include model.start, model.end, Rainy and Sunny\"\n",
    "print(\"Great! You have finished the model\")"
   ]
  },
  {
   "source": [
    "## Visualize the Network\n",
    "---\n",
    "Provided a helper function called `show_model()` that generates a PNG image from a Pomegranate HMM network. You can specify an optional filename to save the file to disk. Setting the \"show_ends\" argument True will add the model start & end states that are included in every Pomegranate network."
   ],
   "cell_type": "markdown",
   "metadata": {}
  },
  {
   "cell_type": "code",
   "execution_count": 23,
   "metadata": {},
   "outputs": [
    {
     "output_type": "display_data",
     "data": {
      "text/plain": "<Figure size 360x360 with 1 Axes>",
      "image/svg+xml": "<?xml version=\"1.0\" encoding=\"utf-8\" standalone=\"no\"?>\r\n<!DOCTYPE svg PUBLIC \"-//W3C//DTD SVG 1.1//EN\"\r\n  \"http://www.w3.org/Graphics/SVG/1.1/DTD/svg11.dtd\">\r\n<!-- Created with matplotlib (https://matplotlib.org/) -->\r\n<svg height=\"113.361538pt\" version=\"1.1\" viewBox=\"0 0 293.4 113.361538\" width=\"293.4pt\" xmlns=\"http://www.w3.org/2000/svg\" xmlns:xlink=\"http://www.w3.org/1999/xlink\">\r\n <metadata>\r\n  <rdf:RDF xmlns:cc=\"http://creativecommons.org/ns#\" xmlns:dc=\"http://purl.org/dc/elements/1.1/\" xmlns:rdf=\"http://www.w3.org/1999/02/22-rdf-syntax-ns#\">\r\n   <cc:Work>\r\n    <dc:type rdf:resource=\"http://purl.org/dc/dcmitype/StillImage\"/>\r\n    <dc:date>2021-03-05T00:06:00.861802</dc:date>\r\n    <dc:format>image/svg+xml</dc:format>\r\n    <dc:creator>\r\n     <cc:Agent>\r\n      <dc:title>Matplotlib v3.3.2, https://matplotlib.org/</dc:title>\r\n     </cc:Agent>\r\n    </dc:creator>\r\n   </cc:Work>\r\n  </rdf:RDF>\r\n </metadata>\r\n <defs>\r\n  <style type=\"text/css\">*{stroke-linecap:butt;stroke-linejoin:round;}</style>\r\n </defs>\r\n <g id=\"figure_1\">\r\n  <g id=\"patch_1\">\r\n   <path d=\"M 0 113.361538 \r\nL 293.4 113.361538 \r\nL 293.4 0 \r\nL 0 0 \r\nz\r\n\" style=\"fill:none;\"/>\r\n  </g>\r\n  <g id=\"axes_1\">\r\n   <g clip-path=\"url(#p9321539a3a)\">\r\n    <image height=\"99\" id=\"imageb5f77b7529\" transform=\"scale(1 -1)translate(0 -99)\" width=\"279\" x=\"7.2\" xlink:href=\"data:image/png;base64,\r\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\" y=\"-7.161538\"/>\r\n   </g>\r\n  </g>\r\n </g>\r\n <defs>\r\n  <clipPath id=\"p9321539a3a\">\r\n   <rect height=\"98.961538\" width=\"279\" x=\"7.2\" y=\"7.2\"/>\r\n  </clipPath>\r\n </defs>\r\n</svg>\r\n",
      "image/png": "[encoded data removed]"
     },
     "metadata": {
      "needs_background": "light"
     }
    }
   ],
   "source": [
    "# import os\n",
    "# os.environ[\"PATH\"] += os.pathsep + 'C:/Program Files (x86)/Graphviz2.38/bin/'\n",
    "\n",
    "show_model(model, figsize=(5,5), filename=\"example.png\", overwrite=True, show_ends=False)"
   ]
  },
  {
   "source": [
    "### Checking the Model\n",
    "The states of the model can be accessed using array syntax on the `HMM.states` attribute, and the transition matrix can be accessed by calling `HMM.dense_transition_matrix()`. Element $(i, j)$ encodes the probability of transitioning from state $i$ to state $j$. For example, with the default column order specified, element $(2, 1)$ gives the probability of transitioning from \"Rainy\" to \"Sunny\", which we specified as 0.4."
   ],
   "cell_type": "markdown",
   "metadata": {}
  },
  {
   "cell_type": "code",
   "execution_count": 24,
   "metadata": {},
   "outputs": [
    {
     "output_type": "stream",
     "name": "stdout",
     "text": [
      "The state transition matrix, P(Xt|Xt-1):\n\n[[0.  0.5 0.5 0. ]\n [0.  0.8 0.2 0. ]\n [0.  0.4 0.6 0. ]\n [0.  0.  0.  0. ]]\n\nThe transition probability from Rainy to Sunny is 40%\n"
     ]
    }
   ],
   "source": [
    "column_order = [\"Example Model-start\", \"Sunny\", \"Rainy\", \"Example Model-end\"]  # Override the Pomegranate default order\n",
    "column_names = [s.name for s in model.states]\n",
    "order_index = [column_names.index(c) for c in column_order]\n",
    "\n",
    "# re-order the rows/columns to match the specified column order\n",
    "transitions = model.dense_transition_matrix()[:, order_index][order_index, :]\n",
    "print(\"The state transition matrix, P(Xt|Xt-1):\\n\")\n",
    "print(transitions)\n",
    "print(\"\\nThe transition probability from Rainy to Sunny is {:.0f}%\".format(100 * transitions[2, 1]))"
   ]
  },
  {
   "source": [
    "## Inference in Hidden Markov Models\n",
    "---\n",
    "Before moving on, we'll use this simple network to quickly go over the Pomegranate API to perform the three most common HMM tasks:\n",
    "\n",
    "**Likelihood Evaluation**<br>\n",
    "Given a model $\\lambda=(A,B)$ and a set of observations $Y$, determine $P(Y|\\lambda)$, the likelihood of observing that sequence from the model\n",
    "</div>\n",
    "\n",
    "We can use the weather prediction model to evaluate the likelihood of the sequence [yes, yes, yes, yes, yes] (or any other state sequence). The likelihood is often used in problems like machine translation to weight interpretations in conjunction with a statistical language model.\n",
    "\n",
    "<div class=\"alert alert-block alert-info\">\n",
    "**Hidden State Decoding**<br>\n",
    "Given a model $\\lambda=(A,B)$ and a set of observations $Y$, determine $Q$, the most likely sequence of hidden states in the model to produce the observations\n",
    "</div>\n",
    "\n",
    "We can use the weather prediction model to determine the most likely sequence of Rainy/Sunny states for a known observation sequence, like [yes, no] -> [Rainy, Sunny]. We will use decoding in the part of speech tagger to determine the tag for each word of a sentence. The decoding can be further split into \"smoothing\" when we want to calculate past states, \"filtering\" when we want to calculate the current state, or \"prediction\" if we want to calculate future states. \n",
    "\n",
    "**Parameter Learning**<br>\n",
    "Given a model topography (set of states and connections) and a set of observations $Y$, learn the transition probabilities $A$ and emission probabilities $B$ of the model, $\\lambda=(A,B)$\n",
    "</div>\n",
    "\n",
    "We don't need to learn the model parameters for the weather problem or POS tagging, but it is supported by Pomegranate.\n",
    "\n",
    "### IMPLEMENTATION: Calculate Sequence Likelihood\n",
    "\n",
    "Calculating the likelihood of an observation sequence from an HMM network is performed with the [forward algorithm](https://en.wikipedia.org/wiki/Forward_algorithm). Pomegranate provides the the `HMM.forward()` method to calculate the full matrix showing the likelihood of aligning each observation to each state in the HMM, and the `HMM.log_probability()` method to calculate the cumulative likelihood over all possible hidden state paths that the specified model generated the observation sequence.\n"
   ],
   "cell_type": "markdown",
   "metadata": {}
  },
  {
   "cell_type": "code",
   "execution_count": 26,
   "metadata": {},
   "outputs": [
    {
     "output_type": "stream",
     "name": "stdout",
     "text": [
      "            Rainy      Sunny      Example Model-start      Example Model-end   \n <start>      0%         0%               100%                     0%          \n   yes       40%         5%                0%                      0%          \n    no        5%        18%                0%                      0%          \n   yes        5%         2%                0%                      0%          \n\nThe likelihood over all possible paths of this model producing the sequence ['yes', 'no', 'yes'] is 6.92%\n\n\n"
     ]
    }
   ],
   "source": [
    "# TODO: input a sequence of 'yes'/'no' values in the list below for testing\n",
    "observations = ['yes', 'no', 'yes']\n",
    "\n",
    "assert len(observations) > 0, \"You need to choose a sequence of 'yes'/'no' observations to test\"\n",
    "\n",
    "# use model.forward() to calculate the forward matrix of the observed sequence,\n",
    "# and then use np.exp() to convert from log-likelihood to likelihood\n",
    "forward_matrix = np.exp(model.forward(observations))\n",
    "\n",
    "# use model.log_probability() to calculate the all-paths likelihood of the\n",
    "# observed sequence and then use np.exp() to convert log-likelihood to likelihood\n",
    "probability_percentage = np.exp(model.log_probability(observations))\n",
    "\n",
    "# Display the forward probabilities\n",
    "print(\"         \" + \"\".join(s.name.center(len(s.name)+6) for s in model.states))\n",
    "for i in range(len(observations) + 1):\n",
    "    print(\" <start> \" if i==0 else observations[i - 1].center(9), end=\"\")\n",
    "    print(\"\".join(\"{:.0f}%\".format(100 * forward_matrix[i, j]).center(len(s.name) + 6)\n",
    "                  for j, s in enumerate(model.states)))\n",
    "\n",
    "print(\"\\nThe likelihood over all possible paths \" + \\\n",
    "      \"of this model producing the sequence {} is {:.2f}%\\n\\n\"\n",
    "      .format(observations, 100 * probability_percentage))"
   ]
  },
  {
   "source": [
    "### IMPLEMENTATION: Decoding the Most Likely Hidden State Sequence\n",
    "\n",
    "The [Viterbi algorithm](https://en.wikipedia.org/wiki/Viterbi_algorithm) calculates the single path with the highest likelihood to produce a specific observation sequence. Pomegranate provides the `HMM.viterbi()` method to calculate both the hidden state sequence and the corresponding likelihood of the viterbi path.\n",
    "\n",
    "This is called \"decoding\" because we use the observation sequence to decode the corresponding hidden state sequence. In the part of speech tagging problem, the hidden states map to parts of speech and the observations map to sentences. Given a sentence, Viterbi decoding finds the most likely sequence of part of speech tags corresponding to the sentence.\n",
    "\n"
   ],
   "cell_type": "markdown",
   "metadata": {}
  },
  {
   "cell_type": "code",
   "execution_count": 27,
   "metadata": {},
   "outputs": [
    {
     "output_type": "stream",
     "name": "stdout",
     "text": [
      "The most likely weather sequence to have generated these observations is ['Rainy', 'Sunny', 'Rainy'] at 2.30%.\n"
     ]
    }
   ],
   "source": [
    "# TODO: input a sequence of 'yes'/'no' values in the list below for testing\n",
    "observations = ['yes', 'no', 'yes']\n",
    "\n",
    "# use model.viterbi to find the sequence likelihood & the most likely path\n",
    "viterbi_likelihood, viterbi_path = model.viterbi(observations)\n",
    "\n",
    "print(\"The most likely weather sequence to have generated \" + \\\n",
    "      \"these observations is {} at {:.2f}%.\"\n",
    "      .format([s[1].name for s in viterbi_path[1:]], np.exp(viterbi_likelihood)*100)\n",
    ")"
   ]
  },
  {
   "source": [
    "### Forward likelihood vs Viterbi likelihood\n",
    "Run the cells below to see the likelihood of each sequence of observations with length 3, and compare with the viterbi path."
   ],
   "cell_type": "markdown",
   "metadata": {}
  },
  {
   "cell_type": "code",
   "execution_count": 28,
   "metadata": {},
   "outputs": [
    {
     "output_type": "stream",
     "name": "stdout",
     "text": [
      "The likelihood of observing ['no', 'no', 'yes'] if the weather sequence is...\n\t('Sunny', 'Sunny', 'Sunny') is 2.59% \n\t('Sunny', 'Sunny', 'Rainy') is 5.18%  <-- Viterbi path\n\t('Sunny', 'Rainy', 'Sunny') is 0.07% \n\t('Sunny', 'Rainy', 'Rainy') is 0.86% \n\t('Rainy', 'Sunny', 'Sunny') is 0.29% \n\t('Rainy', 'Sunny', 'Rainy') is 0.58% \n\t('Rainy', 'Rainy', 'Sunny') is 0.05% \n\t('Rainy', 'Rainy', 'Rainy') is 0.58% \n\nThe total likelihood of observing ['no', 'no', 'yes'] over all possible paths is 10.20%\n"
     ]
    }
   ],
   "source": [
    "from itertools import product\n",
    "\n",
    "observations = ['no', 'no', 'yes']\n",
    "\n",
    "p = {'Sunny': {'Sunny': np.log(.8), 'Rainy': np.log(.2)}, 'Rainy': {'Sunny': np.log(.4), 'Rainy': np.log(.6)}}\n",
    "e = {'Sunny': {'yes': np.log(.1), 'no': np.log(.9)}, 'Rainy':{'yes':np.log(.8), 'no':np.log(.2)}}\n",
    "o = observations\n",
    "k = []\n",
    "vprob = np.exp(model.viterbi(o)[0])\n",
    "print(\"The likelihood of observing {} if the weather sequence is...\".format(o))\n",
    "for s in product(*[['Sunny', 'Rainy']]*3):\n",
    "    k.append(np.exp(np.log(.5)+e[s[0]][o[0]] + p[s[0]][s[1]] + e[s[1]][o[1]] + p[s[1]][s[2]] + e[s[2]][o[2]]))\n",
    "    print(\"\\t{} is {:.2f}% {}\".format(s, 100 * k[-1], \" <-- Viterbi path\" if k[-1] == vprob else \"\"))\n",
    "print(\"\\nThe total likelihood of observing {} over all possible paths is {:.2f}%\".format(o, 100*sum(k)))"
   ]
  },
  {
   "cell_type": "code",
   "execution_count": null,
   "metadata": {},
   "outputs": [],
   "source": []
  }
 ]
}